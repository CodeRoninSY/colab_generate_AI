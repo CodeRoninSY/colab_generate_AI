{
  "nbformat": 4,
  "nbformat_minor": 0,
  "metadata": {
    "colab": {
      "provenance": [],
      "include_colab_link": true
    },
    "kernelspec": {
      "name": "python3",
      "display_name": "Python 3"
    },
    "language_info": {
      "name": "python"
    }
  },
  "cells": [
    {
      "cell_type": "markdown",
      "metadata": {
        "id": "view-in-github",
        "colab_type": "text"
      },
      "source": [
        "<a href=\"https://colab.research.google.com/github/CodeRoninSY/colab_generate_AI/blob/main/Generating_AI_Photos_Leap_AI_Realistic_Vision_Supermodel.ipynb\" target=\"_parent\"><img src=\"https://colab.research.google.com/assets/colab-badge.svg\" alt=\"Open In Colab\"/></a>"
      ]
    },
    {
      "cell_type": "code",
      "execution_count": 7,
      "metadata": {
        "id": "oh3n9k2M910E"
      },
      "outputs": [],
      "source": [
        "import requests\n",
        "import json\n",
        "import time\n",
        "\n",
        "# get api key from Leap AI https://www.tryleap.ai\n",
        "API_KEY = \"de94877e-d732-447c-857b-de9cff3a95f2\"\n",
        "\n",
        "HEADERS = {\n",
        "    \"accept\": \"application/json\",\n",
        "    \"content-type\": \"application/json\",\n",
        "    \"authorization\": f\"Bearer {API_KEY}\"\n",
        "}"
      ]
    },
    {
      "cell_type": "code",
      "source": [
        "def generate_image(model_id, prompt):\n",
        "    url = f\"https://api.tryleap.ai/api/v1/images/models/{model_id}/inferences\"\n",
        "\n",
        "    payload = {\n",
        "        \"prompt\": prompt,\n",
        "        \"steps\": 80,\n",
        "        \"width\": 600,\n",
        "        \"height\": 600,\n",
        "        \"numberOfImages\": 4,\n",
        "        \"promptStrength\": 8,\n",
        "        \"enhancePrompt\": False,\n",
        "        \"restoreFaces\": True,\n",
        "        \"upscaleBy\": \"x1\"\n",
        "    }\n",
        "\n",
        "    response = requests.post(url, json=payload, headers=HEADERS)\n",
        "    data = json.loads(response.text)\n",
        "\n",
        "    print(data)\n",
        "    inference_id = data[\"id\"]\n",
        "    status = data[\"status\"]\n",
        "\n",
        "    print(f\"Inference ID: {inference_id}. Status: {status}\")\n",
        "\n",
        "    return inference_id, status\n",
        "\n",
        "\n",
        "def get_inference_job(model_id, inference_id):\n",
        "    url = f\"https://api.tryleap.ai/api/v1/images/models/{model_id}/inferences/{inference_id}\"\n",
        "\n",
        "    response = requests.get(url, headers=HEADERS)\n",
        "    data = json.loads(response.text)\n",
        "\n",
        "    inference_id = data[\"id\"]\n",
        "    state = data[\"state\"]\n",
        "    images = None\n",
        "\n",
        "    if len(data[\"images\"]):\n",
        "        images = data[\"images\"]\n",
        "\n",
        "    print(f\"Inference ID: {inference_id}. State: {state}\")\n",
        "\n",
        "    return inference_id, state, images\n",
        "\n",
        "\n"
      ],
      "metadata": {
        "id": "seoBu0hK_ijD"
      },
      "execution_count": 10,
      "outputs": []
    },
    {
      "cell_type": "code",
      "source": [
        "# modelID refers to Realistic Vision model. We can now use it to generate images from.\n",
        "# For more models go here: https://docs.tryleap.ai/reference/pre-trained-models\n",
        "model_id = \"eab32df0-de26-4b83-a908-a83f3015e971\"\n",
        "\n",
        "inference_id, status = generate_image(\n",
        "    model_id,\n",
        "    prompt=\"A realistic photo of a Korean long legged supermodel smiling, \\\n",
        "    wearing a mini black cocktail dress, bright morning color tones and anime style, \\\n",
        "    at Istanbul and Bosphorus background.\"\n",
        ")\n",
        "\n",
        "while status != \"finished\":\n",
        "    time.sleep(10)\n",
        "    inference_id, status, images = get_inference_job(model_id, inference_id)\n",
        "\n",
        "for image in images:\n",
        "    print(\"Image ready:\", image[\"uri\"])"
      ],
      "metadata": {
        "id": "_pXpe_iiCkqq",
        "colab": {
          "base_uri": "https://localhost:8080/"
        },
        "outputId": "b88115f5-137a-4166-e576-4954ce3eff62"
      },
      "execution_count": 11,
      "outputs": [
        {
          "output_type": "stream",
          "name": "stdout",
          "text": [
            "{'status': 'queued', 'id': '4a03e3b2-bbf9-42c7-ac96-5bc0b703b00c', 'prompt': \"A profile photo of Superman, selfie, wearing a dark Black Adam's suit,     showing above torso, afloat in air, smiling,     bright morning color tones and anime style, at Istanbul and Bosphorus background.\", 'negativePrompt': '', 'seed': 2417428510, 'width': 600, 'height': 600, 'numberOfImages': 4, 'steps': 80, 'createdAt': '2023-06-24T16:35:15.809Z', 'promptStrength': 8, 'images': [], 'modelId': 'eab32df0-de26-4b83-a908-a83f3015e971', 'upscalingOption': 'x1', 'sampler': 'euler_a'}\n",
            "Inference ID: 4a03e3b2-bbf9-42c7-ac96-5bc0b703b00c. Status: queued\n",
            "Inference ID: 4a03e3b2-bbf9-42c7-ac96-5bc0b703b00c. State: processing\n",
            "Inference ID: 4a03e3b2-bbf9-42c7-ac96-5bc0b703b00c. State: processing\n",
            "Inference ID: 4a03e3b2-bbf9-42c7-ac96-5bc0b703b00c. State: processing\n",
            "Inference ID: 4a03e3b2-bbf9-42c7-ac96-5bc0b703b00c. State: processing\n",
            "Inference ID: 4a03e3b2-bbf9-42c7-ac96-5bc0b703b00c. State: finished\n",
            "Image ready: https://static.tryleap.ai/image-gen-4a03e3b2-bbf9-42c7-ac96-5bc0b703b00c/generated_images/0.png\n",
            "Image ready: https://static.tryleap.ai/image-gen-4a03e3b2-bbf9-42c7-ac96-5bc0b703b00c/generated_images/1.png\n",
            "Image ready: https://static.tryleap.ai/image-gen-4a03e3b2-bbf9-42c7-ac96-5bc0b703b00c/generated_images/3.png\n",
            "Image ready: https://static.tryleap.ai/image-gen-4a03e3b2-bbf9-42c7-ac96-5bc0b703b00c/generated_images/2.png\n"
          ]
        }
      ]
    }
  ]
}