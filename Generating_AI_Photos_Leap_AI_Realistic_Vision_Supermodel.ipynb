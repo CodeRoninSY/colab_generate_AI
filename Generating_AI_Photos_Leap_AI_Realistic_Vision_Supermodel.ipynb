{
  "nbformat": 4,
  "nbformat_minor": 0,
  "metadata": {
    "colab": {
      "provenance": [],
      "include_colab_link": true
    },
    "kernelspec": {
      "name": "python3",
      "display_name": "Python 3"
    },
    "language_info": {
      "name": "python"
    }
  },
  "cells": [
    {
      "cell_type": "markdown",
      "metadata": {
        "id": "view-in-github",
        "colab_type": "text"
      },
      "source": [
        "<a href=\"https://colab.research.google.com/github/CodeRoninSY/colab_generate_AI/blob/main/Generating_AI_Photos_Leap_AI_Realistic_Vision_Supermodel.ipynb\" target=\"_parent\"><img src=\"https://colab.research.google.com/assets/colab-badge.svg\" alt=\"Open In Colab\"/></a>"
      ]
    },
    {
      "cell_type": "code",
      "execution_count": 45,
      "metadata": {
        "id": "oh3n9k2M910E"
      },
      "outputs": [],
      "source": [
        "import requests\n",
        "import json\n",
        "import time\n",
        "\n",
        "# get api key from Leap AI https://www.tryleap.ai\n",
        "API_KEY = \"de94877e-d732-447c-857b-de9cff3a95f2\"\n",
        "\n",
        "HEADERS = {\n",
        "    \"accept\": \"application/json\",\n",
        "    \"content-type\": \"application/json\",\n",
        "    \"authorization\": f\"Bearer {API_KEY}\"\n",
        "}"
      ]
    },
    {
      "cell_type": "code",
      "source": [
        "def generate_image(model_id, prompt):\n",
        "    url = f\"https://api.tryleap.ai/api/v1/images/models/{model_id}/inferences\"\n",
        "\n",
        "    payload = {\n",
        "        \"prompt\": prompt,\n",
        "        \"steps\": 50,\n",
        "        \"width\": 600,\n",
        "        \"height\": 1024,\n",
        "        \"numberOfImages\": 2,\n",
        "        \"promptStrength\": 10,\n",
        "        \"enhancePrompt\": True,\n",
        "        \"restoreFaces\": True,\n",
        "        \"upscaleBy\": \"x1\"\n",
        "    }\n",
        "\n",
        "    response = requests.post(url, json=payload, headers=HEADERS)\n",
        "    data = json.loads(response.text)\n",
        "\n",
        "    print(data)\n",
        "    inference_id = data[\"id\"]\n",
        "    status = data[\"status\"]\n",
        "\n",
        "    print(f\"Inference ID: {inference_id}. Status: {status}\")\n",
        "\n",
        "    return inference_id, status\n",
        "\n",
        "\n",
        "def get_inference_job(model_id, inference_id):\n",
        "    url = f\"https://api.tryleap.ai/api/v1/images/models/{model_id}/inferences/{inference_id}\"\n",
        "\n",
        "    response = requests.get(url, headers=HEADERS)\n",
        "    data = json.loads(response.text)\n",
        "\n",
        "    inference_id = data[\"id\"]\n",
        "    state = data[\"state\"]\n",
        "    images = None\n",
        "\n",
        "    if len(data[\"images\"]):\n",
        "        images = data[\"images\"]\n",
        "\n",
        "    print(f\"Inference ID: {inference_id}. State: {state}\")\n",
        "\n",
        "    return inference_id, state, images\n",
        "\n",
        "\n"
      ],
      "metadata": {
        "id": "seoBu0hK_ijD"
      },
      "execution_count": 48,
      "outputs": []
    },
    {
      "cell_type": "code",
      "source": [
        "# modelID refers to Realistic Vision model. We can now use it to generate images from.\n",
        "# For more models go here: https://docs.tryleap.ai/reference/pre-trained-models\n",
        "model_id = \"eab32df0-de26-4b83-a908-a83f3015e971\"\n",
        "\n",
        "inference_id, status = generate_image(\n",
        "    model_id,\n",
        "    prompt=\"RAW photo, the whole body portrait photo of 20 y.o woman in black lace semi-tranparent lingerie clothes, \\\n",
        "    long braided haircut, normal skin, high heels, suggestive japanese prostitute body, \\\n",
        "    fashion model curvy fit body, no clothes, background is city, smile, (high detailed skin:1.2), 4k hd, dslr, soft lighting, high quality, film grain, Fujifilm XT3\"\n",
        ")\n",
        "\n",
        "while status != \"finished\":\n",
        "    time.sleep(10)\n",
        "    inference_id, status, images = get_inference_job(model_id, inference_id)\n",
        "\n",
        "for image in images:\n",
        "    print(\"Image ready:\", image[\"uri\"])"
      ],
      "metadata": {
        "id": "_pXpe_iiCkqq",
        "colab": {
          "base_uri": "https://localhost:8080/",
          "height": 411
        },
        "outputId": "7fb89f31-f9f2-4bf3-c369-879ec7c78a26"
      },
      "execution_count": 51,
      "outputs": [
        {
          "output_type": "stream",
          "name": "stdout",
          "text": [
            "{'statusCode': 402, 'message': 'You have used all of your Workspace free credits. Please upgrade to a paid account to continue using Leap.'}\n"
          ]
        },
        {
          "output_type": "error",
          "ename": "KeyError",
          "evalue": "ignored",
          "traceback": [
            "\u001b[0;31m---------------------------------------------------------------------------\u001b[0m",
            "\u001b[0;31mKeyError\u001b[0m                                  Traceback (most recent call last)",
            "\u001b[0;32m<ipython-input-51-340382b5577d>\u001b[0m in \u001b[0;36m<cell line: 5>\u001b[0;34m()\u001b[0m\n\u001b[1;32m      3\u001b[0m \u001b[0mmodel_id\u001b[0m \u001b[0;34m=\u001b[0m \u001b[0;34m\"eab32df0-de26-4b83-a908-a83f3015e971\"\u001b[0m\u001b[0;34m\u001b[0m\u001b[0;34m\u001b[0m\u001b[0m\n\u001b[1;32m      4\u001b[0m \u001b[0;34m\u001b[0m\u001b[0m\n\u001b[0;32m----> 5\u001b[0;31m inference_id, status = generate_image(\n\u001b[0m\u001b[1;32m      6\u001b[0m     \u001b[0mmodel_id\u001b[0m\u001b[0;34m,\u001b[0m\u001b[0;34m\u001b[0m\u001b[0;34m\u001b[0m\u001b[0m\n\u001b[1;32m      7\u001b[0m     \u001b[0mprompt\u001b[0m\u001b[0;34m=\u001b[0m\u001b[0;31m\"\u001b[0m\u001b[0mRAW\u001b[0m \u001b[0mphoto\u001b[0m\u001b[0;34m,\u001b[0m \u001b[0mthe\u001b[0m \u001b[0mwhole\u001b[0m \u001b[0mbody\u001b[0m \u001b[0mportrait\u001b[0m \u001b[0mphoto\u001b[0m \u001b[0mof\u001b[0m \u001b[0;36m20\u001b[0m \u001b[0my\u001b[0m\u001b[0;34m.\u001b[0m\u001b[0mo\u001b[0m \u001b[0mwoman\u001b[0m \u001b[0;32min\u001b[0m \u001b[0mblack\u001b[0m \u001b[0mlace\u001b[0m \u001b[0msemi\u001b[0m\u001b[0;34m-\u001b[0m\u001b[0mtranparent\u001b[0m \u001b[0mlingerie\u001b[0m \u001b[0mclothes\u001b[0m\u001b[0;34m,\u001b[0m\u001b[0;31m \u001b[0m\u001b[0;31m\\\u001b[0m\u001b[0;34m\u001b[0m\u001b[0;34m\u001b[0m\u001b[0m\n",
            "\u001b[0;32m<ipython-input-48-e8b9b1dae829>\u001b[0m in \u001b[0;36mgenerate_image\u001b[0;34m(model_id, prompt)\u001b[0m\n\u001b[1;32m     18\u001b[0m \u001b[0;34m\u001b[0m\u001b[0m\n\u001b[1;32m     19\u001b[0m     \u001b[0mprint\u001b[0m\u001b[0;34m(\u001b[0m\u001b[0mdata\u001b[0m\u001b[0;34m)\u001b[0m\u001b[0;34m\u001b[0m\u001b[0;34m\u001b[0m\u001b[0m\n\u001b[0;32m---> 20\u001b[0;31m     \u001b[0minference_id\u001b[0m \u001b[0;34m=\u001b[0m \u001b[0mdata\u001b[0m\u001b[0;34m[\u001b[0m\u001b[0;34m\"id\"\u001b[0m\u001b[0;34m]\u001b[0m\u001b[0;34m\u001b[0m\u001b[0;34m\u001b[0m\u001b[0m\n\u001b[0m\u001b[1;32m     21\u001b[0m     \u001b[0mstatus\u001b[0m \u001b[0;34m=\u001b[0m \u001b[0mdata\u001b[0m\u001b[0;34m[\u001b[0m\u001b[0;34m\"status\"\u001b[0m\u001b[0;34m]\u001b[0m\u001b[0;34m\u001b[0m\u001b[0;34m\u001b[0m\u001b[0m\n\u001b[1;32m     22\u001b[0m \u001b[0;34m\u001b[0m\u001b[0m\n",
            "\u001b[0;31mKeyError\u001b[0m: 'id'"
          ]
        }
      ]
    }
  ]
}